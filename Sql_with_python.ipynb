{
 "cells": [
  {
   "cell_type": "markdown",
   "id": "d98e7465",
   "metadata": {},
   "source": [
    "# Create MySQL Connection"
   ]
  },
  {
   "cell_type": "code",
   "execution_count": 1,
   "id": "97cdcbe6",
   "metadata": {},
   "outputs": [
    {
     "name": "stdout",
     "output_type": "stream",
     "text": [
      "<mysql.connector.connection_cext.CMySQLConnection object at 0x000002A32ADD6C10>\n"
     ]
    }
   ],
   "source": [
    "# Create MySQL Connection & connect\n",
    "import mysql.connector as sql\n",
    "\n",
    "connection = sql.connect(\n",
    "host = \"localhost\",\n",
    "user = \"root\",\n",
    "password = \"1212\",\n",
    "database = \"pysql\"\n",
    ")\n",
    "\n",
    "print(connection)"
   ]
  },
  {
   "cell_type": "code",
   "execution_count": 2,
   "id": "c7d5506e",
   "metadata": {},
   "outputs": [
    {
     "data": {
      "text/plain": [
       "'cursor = connection.cursor()\\n\\ncursor.execute(\"CREATE DATABASE pysql\")'"
      ]
     },
     "execution_count": 2,
     "metadata": {},
     "output_type": "execute_result"
    }
   ],
   "source": [
    "# Create database (already created so in comments)\n",
    "'''cursor = connection.cursor()\n",
    "\n",
    "cursor.execute(\"CREATE DATABASE pysql\")'''"
   ]
  },
  {
   "cell_type": "code",
   "execution_count": 3,
   "id": "6a5788c0",
   "metadata": {},
   "outputs": [],
   "source": [
    "cursor = connection.cursor()\n",
    "\n",
    "cursor.execute('show databases')"
   ]
  },
  {
   "cell_type": "code",
   "execution_count": 4,
   "id": "7f8ead00",
   "metadata": {},
   "outputs": [
    {
     "name": "stdout",
     "output_type": "stream",
     "text": [
      "('dwm_case_study',)\n",
      "('hr',)\n",
      "('information_schema',)\n",
      "('mydb',)\n",
      "('mysql',)\n",
      "('performance_schema',)\n",
      "('pysql',)\n",
      "('sakila',)\n",
      "('sales',)\n",
      "('sys',)\n",
      "('world',)\n"
     ]
    }
   ],
   "source": [
    "for database in cursor:\n",
    "    print(database)"
   ]
  },
  {
   "cell_type": "markdown",
   "id": "156a348c",
   "metadata": {},
   "source": [
    "## Create table in Mysql using python "
   ]
  },
  {
   "cell_type": "code",
   "execution_count": 6,
   "id": "876ce863",
   "metadata": {},
   "outputs": [],
   "source": [
    "cursor.execute(\"CREATE TABLE pyversion (id INT AUTO_INCREMENT PRIMARY KEY, name VARCHAR(6), date DATE)\")"
   ]
  },
  {
   "cell_type": "markdown",
   "id": "d23d052a",
   "metadata": {},
   "source": [
    "## Insert records in table"
   ]
  },
  {
   "cell_type": "code",
   "execution_count": 11,
   "id": "53d1b29a",
   "metadata": {},
   "outputs": [
    {
     "name": "stdout",
     "output_type": "stream",
     "text": [
      "Row inserted 1\n"
     ]
    }
   ],
   "source": [
    "query = \"INSERT INTO pyversion (name, date) VALUES (%s, %s)\"\n",
    "value = (\"pyv11\", \"2001-12-12\")\n",
    "cursor.execute(query,value)\n",
    "print(\"Row inserted\", cursor.lastrowid)"
   ]
  },
  {
   "cell_type": "code",
   "execution_count": 12,
   "id": "81dfbb64",
   "metadata": {},
   "outputs": [],
   "source": [
    "cursor.execute(\"Select * from pyversion\")"
   ]
  },
  {
   "cell_type": "code",
   "execution_count": 13,
   "id": "b9cfdc30",
   "metadata": {},
   "outputs": [
    {
     "data": {
      "text/plain": [
       "(1, 'pyv11', datetime.date(2001, 12, 12))"
      ]
     },
     "execution_count": 13,
     "metadata": {},
     "output_type": "execute_result"
    }
   ],
   "source": [
    "### Fetch the Data\n",
    "cursor.fetchone()"
   ]
  },
  {
   "cell_type": "code",
   "execution_count": 15,
   "id": "c7e84467",
   "metadata": {},
   "outputs": [
    {
     "name": "stdout",
     "output_type": "stream",
     "text": [
      "Row inserted 2\n"
     ]
    }
   ],
   "source": [
    "### Insert multiple records in Table\n",
    "query = \"INSERT INTO pyversion (name, date) VALUES (%s, %s)\"\n",
    "values = [(\"pyv22\", \"2001-12-13\"),\n",
    "        (\"pyv23\", \"2001-12-14\"),\n",
    "        (\"pyv24\",\"2001-12-15\"),\n",
    "        (\"pyv25\",\"2001-12-16\"),\n",
    "        (\"pyv33\",\"2001-12-17\"),\n",
    "        (\"pyv33\",\"2001-12-18\"),\n",
    "        (\"pyv44\",\"2001-12-19\")]\n",
    "cursor.executemany(query,values)\n",
    "print(\"Row inserted\",cursor.lastrowid)"
   ]
  },
  {
   "cell_type": "markdown",
   "id": "eb6d3137",
   "metadata": {},
   "source": [
    "## Select All"
   ]
  },
  {
   "cell_type": "code",
   "execution_count": 27,
   "id": "4d07f564",
   "metadata": {},
   "outputs": [],
   "source": [
    "cursor = connection.cursor()\n",
    "cursor.execute(\"Select * from pyversion\")"
   ]
  },
  {
   "cell_type": "code",
   "execution_count": 24,
   "id": "87310939",
   "metadata": {},
   "outputs": [
    {
     "data": {
      "text/plain": [
       "[(1, 'pyv11', datetime.date(2001, 12, 12)),\n",
       " (2, 'pyv22', datetime.date(2001, 12, 13)),\n",
       " (3, 'pyv23', datetime.date(2001, 12, 14)),\n",
       " (4, 'pyv24', datetime.date(2001, 12, 15)),\n",
       " (5, 'pyv25', datetime.date(2001, 12, 16)),\n",
       " (6, 'pyv33', datetime.date(2001, 12, 17)),\n",
       " (7, 'pyv33', datetime.date(2001, 12, 18)),\n",
       " (8, 'pyv44', datetime.date(2001, 12, 19))]"
      ]
     },
     "execution_count": 24,
     "metadata": {},
     "output_type": "execute_result"
    }
   ],
   "source": [
    "### Fetch All the Data\n",
    "cursor.fetchall()"
   ]
  },
  {
   "cell_type": "code",
   "execution_count": 28,
   "id": "a72d12c2",
   "metadata": {},
   "outputs": [],
   "source": [
    "lst=cursor.fetchall()"
   ]
  },
  {
   "cell_type": "code",
   "execution_count": 29,
   "id": "fae9efa9",
   "metadata": {},
   "outputs": [
    {
     "name": "stdout",
     "output_type": "stream",
     "text": [
      "(1, 'pyv11', datetime.date(2001, 12, 12))\n",
      "(2, 'pyv22', datetime.date(2001, 12, 13))\n",
      "(3, 'pyv23', datetime.date(2001, 12, 14))\n",
      "(4, 'pyv24', datetime.date(2001, 12, 15))\n",
      "(5, 'pyv25', datetime.date(2001, 12, 16))\n",
      "(6, 'pyv33', datetime.date(2001, 12, 17))\n",
      "(7, 'pyv33', datetime.date(2001, 12, 18))\n",
      "(8, 'pyv44', datetime.date(2001, 12, 19))\n"
     ]
    }
   ],
   "source": [
    "for records in lst:\n",
    "    print(records)"
   ]
  },
  {
   "cell_type": "markdown",
   "id": "ab029cfd",
   "metadata": {},
   "source": [
    "## Selecting Particular Rows"
   ]
  },
  {
   "cell_type": "code",
   "execution_count": 30,
   "id": "e24562f6",
   "metadata": {},
   "outputs": [],
   "source": [
    "cursor.execute(\"Select * from pyversion where name='pyv23'\")"
   ]
  },
  {
   "cell_type": "code",
   "execution_count": 31,
   "id": "0ad9caa5",
   "metadata": {},
   "outputs": [
    {
     "data": {
      "text/plain": [
       "[(3, 'pyv23', datetime.date(2001, 12, 14))]"
      ]
     },
     "execution_count": 31,
     "metadata": {},
     "output_type": "execute_result"
    }
   ],
   "source": [
    "### Fetch All the Data\n",
    "cursor.fetchall()"
   ]
  },
  {
   "cell_type": "markdown",
   "id": "d75794ed",
   "metadata": {},
   "source": [
    "## Select Particular Columns"
   ]
  },
  {
   "cell_type": "code",
   "execution_count": 32,
   "id": "77683e78",
   "metadata": {},
   "outputs": [
    {
     "data": {
      "text/plain": [
       "[(datetime.date(2001, 12, 12),),\n",
       " (datetime.date(2001, 12, 13),),\n",
       " (datetime.date(2001, 12, 14),),\n",
       " (datetime.date(2001, 12, 15),),\n",
       " (datetime.date(2001, 12, 16),),\n",
       " (datetime.date(2001, 12, 17),),\n",
       " (datetime.date(2001, 12, 18),),\n",
       " (datetime.date(2001, 12, 19),)]"
      ]
     },
     "execution_count": 32,
     "metadata": {},
     "output_type": "execute_result"
    }
   ],
   "source": [
    "cursor.execute(\"Select date from pyversion\")\n",
    "cursor.fetchall()"
   ]
  },
  {
   "cell_type": "markdown",
   "id": "d5c4fd58",
   "metadata": {},
   "source": [
    "## Drop Table"
   ]
  },
  {
   "cell_type": "code",
   "execution_count": 33,
   "id": "0e95bee5",
   "metadata": {},
   "outputs": [],
   "source": [
    "cursor.execute(\"DROP TABLE pyversion\") "
   ]
  }
 ],
 "metadata": {
  "kernelspec": {
   "display_name": "Python 3",
   "language": "python",
   "name": "python3"
  },
  "language_info": {
   "codemirror_mode": {
    "name": "ipython",
    "version": 3
   },
   "file_extension": ".py",
   "mimetype": "text/x-python",
   "name": "python",
   "nbconvert_exporter": "python",
   "pygments_lexer": "ipython3",
   "version": "3.8.8"
  }
 },
 "nbformat": 4,
 "nbformat_minor": 5
}
