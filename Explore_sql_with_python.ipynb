{
 "cells": [
  {
   "cell_type": "code",
   "execution_count": 16,
   "id": "2aa123d6",
   "metadata": {},
   "outputs": [
    {
     "name": "stdout",
     "output_type": "stream",
     "text": [
      "<mysql.connector.connection_cext.CMySQLConnection object at 0x000002056F2E0D90>\n"
     ]
    }
   ],
   "source": [
    "import mysql.connector as sql\n",
    "\n",
    "connection = sql.connect(\n",
    "host = \"localhost\",\n",
    "user = \"root\",\n",
    "password = \"1212\"\n",
    ")\n",
    "\n",
    "print(connection)"
   ]
  },
  {
   "cell_type": "code",
   "execution_count": 17,
   "id": "a83f498b",
   "metadata": {},
   "outputs": [],
   "source": [
    "cursor = connection.cursor()\n",
    "cursor.execute(\"DROP DATABASE PYSQL\")"
   ]
  },
  {
   "cell_type": "code",
   "execution_count": 5,
   "id": "612baf34",
   "metadata": {},
   "outputs": [],
   "source": [
    "cursor.execute(\"CREATE DATABASE EXPLORE\")"
   ]
  },
  {
   "cell_type": "code",
   "execution_count": 22,
   "id": "85636605",
   "metadata": {},
   "outputs": [],
   "source": [
    "cursor.execute(\"USE EXPLORE\")\n",
    "cursor.execute(\"CREATE TABLE LANGUAGES(ID INT AUTO_INCREMENT PRIMARY KEY, LNAME VARCHAR(8), LSPEED INT(5))\")"
   ]
  },
  {
   "cell_type": "code",
   "execution_count": 11,
   "id": "6298530b",
   "metadata": {},
   "outputs": [],
   "source": [
    "#cursor.execute(\"DESCRIBE LANGUAGES\")"
   ]
  },
  {
   "cell_type": "code",
   "execution_count": 24,
   "id": "8ee500ba",
   "metadata": {},
   "outputs": [
    {
     "name": "stdout",
     "output_type": "stream",
     "text": [
      "Row inserted 1\n"
     ]
    }
   ],
   "source": [
    "QUERY = \"INSERT INTO LANGUAGES (LNAME, LSPEED) VALUES (%s, %s)\"\n",
    "VALUE = (\"PYTHON\", 32)\n",
    "cursor.execute(QUERY, VALUE)\n",
    "print(\"Row inserted\",cursor.lastrowid)\n",
    "connection.commit()"
   ]
  },
  {
   "cell_type": "code",
   "execution_count": 36,
   "id": "7fc5715a",
   "metadata": {},
   "outputs": [],
   "source": [
    "cursor.execute(\"Select * from languages\")"
   ]
  },
  {
   "cell_type": "code",
   "execution_count": 37,
   "id": "5a19e777",
   "metadata": {},
   "outputs": [
    {
     "data": {
      "text/plain": [
       "[(1, 'PYTHON', 32)]"
      ]
     },
     "execution_count": 37,
     "metadata": {},
     "output_type": "execute_result"
    }
   ],
   "source": [
    "cursor.fetchall()"
   ]
  },
  {
   "cell_type": "code",
   "execution_count": 39,
   "id": "ee642030",
   "metadata": {},
   "outputs": [],
   "source": [
    "sql = \"update languages set lspeed = 30 where lname = 'python'\"\n",
    "cursor.execute(sql)\n",
    "connection.commit()"
   ]
  },
  {
   "cell_type": "code",
   "execution_count": 40,
   "id": "ed4d7781",
   "metadata": {},
   "outputs": [
    {
     "data": {
      "text/plain": [
       "[(1, 'PYTHON', 30), (2, 'C++', 46)]"
      ]
     },
     "execution_count": 40,
     "metadata": {},
     "output_type": "execute_result"
    }
   ],
   "source": [
    "cursor.execute(\"Select * from languages\")\n",
    "cursor.fetchall()"
   ]
  },
  {
   "cell_type": "code",
   "execution_count": null,
   "id": "39ffb8b3",
   "metadata": {},
   "outputs": [],
   "source": []
  }
 ],
 "metadata": {
  "kernelspec": {
   "display_name": "Python 3",
   "language": "python",
   "name": "python3"
  },
  "language_info": {
   "codemirror_mode": {
    "name": "ipython",
    "version": 3
   },
   "file_extension": ".py",
   "mimetype": "text/x-python",
   "name": "python",
   "nbconvert_exporter": "python",
   "pygments_lexer": "ipython3",
   "version": "3.8.8"
  }
 },
 "nbformat": 4,
 "nbformat_minor": 5
}
